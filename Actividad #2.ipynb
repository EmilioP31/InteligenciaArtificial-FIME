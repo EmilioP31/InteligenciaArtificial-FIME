{
  "nbformat": 4,
  "nbformat_minor": 0,
  "metadata": {
    "colab": {
      "name": "Actividad #2.ipynb",
      "provenance": [],
      "collapsed_sections": [],
      "authorship_tag": "ABX9TyPr6TYc3t5FkOc49z6BTC54",
      "include_colab_link": true
    },
    "kernelspec": {
      "name": "python3",
      "display_name": "Python 3"
    },
    "language_info": {
      "name": "python"
    }
  },
  "cells": [
    {
      "cell_type": "markdown",
      "metadata": {
        "id": "view-in-github",
        "colab_type": "text"
      },
      "source": [
        "<a href=\"https://colab.research.google.com/drive/1Ys5b0YdhW2S7YqwuJHdMnToe8emf-8aa#scrollTo=F5pEWCD6pZ7I" target=\"_parent\"><img src=\"https://colab.research.google.com/assets/colab-badge.svg\" alt=\"Open In Colab\"/></a>"
      ]
    },
    {
      "cell_type": "code",
      "metadata": {
        "colab": {
          "base_uri": "https://localhost:8080/",
          "height": 35
        },
        "id": "F5pEWCD6pZ7I",
        "outputId": "794ba52a-3109-44ea-c003-2207544be997"
      },
      "source": [
        "\"Actividad 2 Ejercicios Introducción Python Jorge Emilio Partida Jaramillo 1852382 Sábado N1\"\n",
        "\n",
        "\n",
        "\n"
      ],
      "execution_count": null,
      "outputs": [
        {
          "output_type": "execute_result",
          "data": {
            "application/vnd.google.colaboratory.intrinsic+json": {
              "type": "string"
            },
            "text/plain": [
              "'Actividad 2 Ejercicios Introducción Python Jorge Emilio Partida Jaramillo 1852382 Sábado N1'"
            ]
          },
          "metadata": {},
          "execution_count": 7
        }
      ]
    }
  ]
}
