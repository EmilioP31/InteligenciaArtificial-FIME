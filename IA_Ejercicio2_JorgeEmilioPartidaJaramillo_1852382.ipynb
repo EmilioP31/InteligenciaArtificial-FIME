{
  "nbformat": 4,
  "nbformat_minor": 0,
  "metadata": {
    "colab": {
      "name": "IA_Ejercicio2_JorgeEmilioPartidaJaramillo_1852382",
      "provenance": [],
      "collapsed_sections": [
        "nLod33-dfdOG",
        "UHUlc5Ksfvq5",
        "xGL6E8uWidF8"
      ],
      "authorship_tag": "ABX9TyMKzbLVDs8gU11VtAjVEbNT",
      "include_colab_link": true
    },
    "kernelspec": {
      "name": "python3",
      "display_name": "Python 3"
    },
    "language_info": {
      "name": "python"
    }
  },
  "cells": [
    {
      "cell_type": "markdown",
      "metadata": {
        "id": "view-in-github",
        "colab_type": "text"
      },
      "source": [
        "<a href=\"https://colab.research.google.com/github/EmilioP31/InteligenciaArtificial-FIME/blob/main/IA_Ejercicio2_JorgeEmilioPartidaJaramillo_1852382.ipynb\" target=\"_parent\"><img src=\"https://colab.research.google.com/assets/colab-badge.svg\" alt=\"Open In Colab\"/></a>"
      ]
    },
    {
      "cell_type": "code",
      "metadata": {
        "id": "2CWv06w6ferw"
      },
      "source": [
        "#Actividad 3 Ejercicios Introducción Python, 2da parte Jorge Emilio Partida Jaramillo 1852382 Sábado N1"
      ],
      "execution_count": null,
      "outputs": []
    },
    {
      "cell_type": "markdown",
      "metadata": {
        "id": "nLod33-dfdOG"
      },
      "source": [
        "#Ejercicio 1.1"
      ]
    },
    {
      "cell_type": "code",
      "metadata": {
        "colab": {
          "base_uri": "https://localhost:8080/"
        },
        "id": "2U8ap9IadSbO",
        "outputId": "317387d0-a046-443f-a830-836a024c2931"
      },
      "source": [
        "#Ingresa tus 7 comidas favoritas\n",
        "a = input(\"Comida 1: \")\n",
        "b = input(\"Comida 2: \")\n",
        "c = input(\"Comida 3: \")\n",
        "d = input(\"Comida 4: \")\n",
        "e = input(\"Comida 5: \")\n",
        "f = input(\"Comida 6: \")\n",
        "g = input(\"Comida 7: \")\n",
        "#Imprime las comidas agregadas\n",
        "lista = [a, b, c, d, e, f, g]\n",
        "print(lista) "
      ],
      "execution_count": null,
      "outputs": [
        {
          "output_type": "stream",
          "name": "stdout",
          "text": [
            "Comida 1: sushi\n",
            "Comida 2: tamales\n",
            "Comida 3: pizza\n",
            "Comida 4: mariscos\n",
            "Comida 5: enchiladas\n",
            "Comida 6: chiles rellenos\n",
            "Comida 7: tacos\n",
            "['sushi', 'tamales', 'pizza', 'mariscos', 'enchiladas', 'chiles rellenos', 'tacos']\n"
          ]
        }
      ]
    },
    {
      "cell_type": "markdown",
      "metadata": {
        "id": "UHUlc5Ksfvq5"
      },
      "source": [
        "#Ejercicio 1.2"
      ]
    },
    {
      "cell_type": "code",
      "metadata": {
        "colab": {
          "base_uri": "https://localhost:8080/"
        },
        "id": "3R8U_vlRfyew",
        "outputId": "f3dc1d8c-54ea-48c1-95f7-d831c29c850a"
      },
      "source": [
        "#Ingresa tus 7 comidas favoritas\n",
        "a = input(\"Comida 1: \")\n",
        "b = input(\"Comida 2: \")\n",
        "c = input(\"Comida 3: \")\n",
        "d = input(\"Comida 4: \")\n",
        "e = input(\"Comida 5: \")\n",
        "f = input(\"Comida 6: \")\n",
        "g = input(\"Comida 7: \")\n",
        "#Imprime cada una de las comidas agregadas\n",
        "lista = [a, b, c, d, e, f, g] \n",
        "for x in lista:\n",
        "  print(\"Una de mis comidas favoritas ese \" + x)"
      ],
      "execution_count": null,
      "outputs": [
        {
          "output_type": "stream",
          "name": "stdout",
          "text": [
            "Comida 1: sushi\n",
            "Comida 2: tamales\n",
            "Comida 3: pizza\n",
            "Comida 4: mariscos\n",
            "Comida 5: enchiladas\n",
            "Comida 6: chiles rellenos\n",
            "Comida 7: tacos\n",
            "Una de mis comidas favoritas es sushi\n",
            "Una de mis comidas favoritas es tamales\n",
            "Una de mis comidas favoritas es pizza\n",
            "Una de mis comidas favoritas es mariscos\n",
            "Una de mis comidas favoritas es enchiladas\n",
            "Una de mis comidas favoritas es chiles rellenos\n",
            "Una de mis comidas favoritas es tacos\n"
          ]
        }
      ]
    },
    {
      "cell_type": "markdown",
      "metadata": {
        "id": "xGL6E8uWidF8"
      },
      "source": [
        "#Ejercicio 2"
      ]
    },
    {
      "cell_type": "code",
      "metadata": {
        "id": "5XslCaiwigAe",
        "colab": {
          "base_uri": "https://localhost:8080/"
        },
        "outputId": "cbc13c18-6ec8-4a1b-8522-45c08d07b3d2"
      },
      "source": [
        "#Definir elección del jugador 1\n",
        "jugador1 = input(\"Jugador 1, escoge piedra, papel o tijera: \")\n",
        "#Definir elección del jugador 2\n",
        "jugador2 = input(\"Jugador 2, escoge piedra, papel o tijera: \")\n",
        "if jugador1 == \"papel\":\n",
        "  if jugador2 == \"papel\":\n",
        "    print(\"Empate!\")\n",
        "  else:\n",
        "    if jugador2 == \"piedra\":\n",
        "      print(\"Gana jugador 1\")\n",
        "    else:\n",
        "      if jugador2 == \"tijera\":\n",
        "        print(\"Gana jugador 2\")\n",
        "else:\n",
        "  if jugador1 == \"piedra\":\n",
        "    if jugador2 == \"piedra\":\n",
        "      print(\"Empate!\")\n",
        "    else:\n",
        "      if jugador2 == \"papel\":\n",
        "        print(\"Gana jugador 2\")\n",
        "      else:\n",
        "        if jugador2 == \"tijera\":\n",
        "          print(\"Gana jugador 1\")\n",
        "  else:\n",
        "      if jugador1 == \"tijera\":\n",
        "        if jugador2 == \"tijera\":\n",
        "          print(\"Empate!\")\n",
        "        else:\n",
        "          if jugador2 == \"piedra\":\n",
        "            print(\"Gana jugador 2\")\n",
        "          else:\n",
        "            if jugador2 == \"papel\":\n",
        "              print(\"Gana jugador 1\")"
      ],
      "execution_count": 56,
      "outputs": [
        {
          "output_type": "stream",
          "name": "stdout",
          "text": [
            "Jugador 1, escoge piedra, papel o tijera: tijera\n",
            "Jugador 2, escoge piedra, papel o tijera: tijera\n",
            "Empate!\n"
          ]
        }
      ]
    },
    {
      "cell_type": "markdown",
      "metadata": {
        "id": "FBa5SeMk39Yz"
      },
      "source": [
        "#Ejercicio 3"
      ]
    },
    {
      "cell_type": "code",
      "metadata": {
        "colab": {
          "base_uri": "https://localhost:8080/"
        },
        "id": "pOoeiNCUO2_6",
        "outputId": "396e4bc1-7531-4cf6-b91b-dcd053faf100"
      },
      "source": [
        "#Definimos el valor de una lista con la serie del 1 al 6\n",
        "lista = [1, 2, 3, 4 , 5, 6]\n",
        "#Creamos los loops para que imprima cada renglón\n",
        "i = 7\n",
        "while i < 8:\n",
        "  print(lista[0:i-1])\n",
        "  i -= 1\n",
        "  if i == 2:\n",
        "    break\n",
        "while i > 1:\n",
        "  print(lista[0:i-1])\n",
        "  i += 1\n",
        "  if i == 8:\n",
        "    break\n"
      ],
      "execution_count": 211,
      "outputs": [
        {
          "output_type": "stream",
          "name": "stdout",
          "text": [
            "[1, 2, 3, 4, 5, 6]\n",
            "[1, 2, 3, 4, 5]\n",
            "[1, 2, 3, 4]\n",
            "[1, 2, 3]\n",
            "[1, 2]\n",
            "[1]\n",
            "[1, 2]\n",
            "[1, 2, 3]\n",
            "[1, 2, 3, 4]\n",
            "[1, 2, 3, 4, 5]\n",
            "[1, 2, 3, 4, 5, 6]\n"
          ]
        }
      ]
    },
    {
      "cell_type": "code",
      "metadata": {
        "colab": {
          "base_uri": "https://localhost:8080/"
        },
        "id": "oPjgW9wQLzim",
        "outputId": "68731b5c-1674-4113-c9e5-adfc9dd29254"
      },
      "source": [
        "#Este es otra forma de realizar el ejercicio con valores definidos:\n",
        "\n",
        "#Definimos los valores de la serie del 1 al 6\n",
        "a = 1\n",
        "b = 2\n",
        "c = 3\n",
        "d = 4\n",
        "e = 5\n",
        "f = 6\n",
        "#Creamos los loops para que imprima cada escalón\n",
        "i = 1\n",
        "while i < 2:\n",
        "  print(a, b, c, d, e, f)\n",
        "  print(a, b, c, d, e)\n",
        "  print(a, b, c, d)\n",
        "  print(a, b, c)\n",
        "  print(a, b)\n",
        "  print(a)\n",
        "  if i == 2:\n",
        "    break\n",
        "  i += 1\n",
        "while i < 3:\n",
        "  print(a)\n",
        "  print(a, b)\n",
        "  print(a, b, c)\n",
        "  print(a, b, c, d)\n",
        "  print(a, b, c, d, e)\n",
        "  print(a, b, c, d, e, f)\n",
        "  if i == 3:\n",
        "    break\n",
        "  i += 1"
      ],
      "execution_count": 174,
      "outputs": [
        {
          "output_type": "stream",
          "name": "stdout",
          "text": [
            "1 2 3 4 5 6\n",
            "1 2 3 4 5\n",
            "1 2 3 4\n",
            "1 2 3\n",
            "1 2\n",
            "1\n",
            "1\n",
            "1 2\n",
            "1 2 3\n",
            "1 2 3 4\n",
            "1 2 3 4 5\n",
            "1 2 3 4 5 6\n"
          ]
        }
      ]
    }
  ]
}