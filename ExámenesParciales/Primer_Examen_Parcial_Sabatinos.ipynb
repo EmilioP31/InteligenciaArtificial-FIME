{
  "nbformat": 4,
  "nbformat_minor": 0,
  "metadata": {
    "colab": {
      "name": "Primer_Examen_Parcial_Sabatinos",
      "provenance": [],
      "collapsed_sections": []
    },
    "kernelspec": {
      "name": "python3",
      "display_name": "Python 3"
    },
    "language_info": {
      "name": "python"
    }
  },
  "cells": [
    {
      "cell_type": "markdown",
      "metadata": {
        "id": "m7aTrM_9NH40"
      },
      "source": [
        "#Primer Examen Parcial Jorge Emilio Partida Jaramillo 1852382 Sábado N1"
      ]
    },
    {
      "cell_type": "markdown",
      "metadata": {
        "id": "yNkj7ms4HXE_"
      },
      "source": [
        "#Problema 17\n"
      ]
    },
    {
      "cell_type": "code",
      "metadata": {
        "colab": {
          "base_uri": "https://localhost:8080/"
        },
        "id": "cvZ24QCcIDJS",
        "outputId": "3922b7fa-d0bc-4856-8346-0fcc605bca74"
      },
      "source": [
        "#Seleccionar el número al azar\n",
        "n = input(\"Escoge un número cualquiera: \")\n",
        "#Hacemos la operación e imprimimos el resultado\n",
        "s = (int(n) * (int(n) + 1)) // 2\n",
        "print(s)"
      ],
      "execution_count": 33,
      "outputs": [
        {
          "output_type": "stream",
          "name": "stdout",
          "text": [
            "Escoge un número cualquiera: 100\n",
            "5050\n"
          ]
        }
      ]
    }
  ]
}