{
  "nbformat": 4,
  "nbformat_minor": 0,
  "metadata": {
    "colab": {
      "name": "IA_Ejercicio1_JorgeEmilioPartidaJaramillo_1852382.ipynb",
      "provenance": [],
      "collapsed_sections": [
        "h2lkWqFx0-s2",
        "7TfMPIOR1Mr-",
        "BLgQHDhB3WCB"
      ],
      "authorship_tag": "ABX9TyPuFZDLrggJlqC/Qh+rs4Q8",
      "include_colab_link": true
    },
    "kernelspec": {
      "name": "python3",
      "display_name": "Python 3"
    },
    "language_info": {
      "name": "python"
    }
  },
  "cells": [
    {
      "cell_type": "markdown",
      "metadata": {
        "id": "view-in-github",
        "colab_type": "text"
      },
      "source": [
        "<a href=\"https://colab.research.google.com/github/EmilioP31/InteligenciaArtificial-FIME/blob/main/IA_Ejercicio1_JorgeEmilioPartidaJaramillo_1852382.ipynb\" target=\"_parent\"><img src=\"https://colab.research.google.com/assets/colab-badge.svg\" alt=\"Open In Colab\"/></a>"
      ]
    },
    {
      "cell_type": "code",
      "metadata": {
        "id": "OwB6Z4YLwLyI"
      },
      "source": [
        "#Actividad 2 Ejercicios Introducción Python Jorge Emilio Partida Jaramillo 1852382 Sábado N1"
      ],
      "execution_count": 11,
      "outputs": []
    },
    {
      "cell_type": "markdown",
      "metadata": {
        "id": "h2lkWqFx0-s2"
      },
      "source": [
        "### Ejercicio 1"
      ]
    },
    {
      "cell_type": "code",
      "metadata": {
        "colab": {
          "base_uri": "https://localhost:8080/"
        },
        "id": "noOlaJZLwNND",
        "outputId": "3c4ca0da-43d2-4af5-b7cc-3a231799d4c4"
      },
      "source": [
        "#Primera parte \"Declara las variables\"\n",
        "nombre = input(\"¿Cual es tu nombre? \")\n",
        "edad = input(\"Escribe tu edad: \")\n",
        "frase = input(\"Frase que mas te guste: \")\n",
        "autor = input(\"Autor de la frase antes dicha: \")\n",
        "\n",
        "#Seguda parte \"Imprime la concatenación de variables\"\n",
        "print(nombre + \" \" + edad + \" \" + frase + \" \" + autor)"
      ],
      "execution_count": 12,
      "outputs": [
        {
          "output_type": "stream",
          "name": "stdout",
          "text": [
            "¿Cual es tu nombre? Emilio\n",
            "Escribe tu edad: 20 años\n",
            "Frase que mas te guste: Hola, Peter\n",
            "Autor de la frase antes dicha: Dr. Octopus\n",
            "Emilio 20 años Hola, Peter Dr. Octopus\n"
          ]
        }
      ]
    },
    {
      "cell_type": "markdown",
      "metadata": {
        "id": "7TfMPIOR1Mr-"
      },
      "source": [
        "### Ejercicio 2"
      ]
    },
    {
      "cell_type": "code",
      "metadata": {
        "colab": {
          "base_uri": "https://localhost:8080/"
        },
        "id": "R5J-Q3ie0jcg",
        "outputId": "7d658bbc-b348-43c1-aef9-04ea32139a06"
      },
      "source": [
        "#Definir las primeras variables\n",
        "a = \"Ingrese dos números enteros\"\n",
        "print(a)\n",
        "n1 = int(input(\"Ingrese un numero entero: \"))\n",
        "n2 = int(input(\"Ingrese un numero entero: \"))\n",
        "print(\" \")\n",
        "print(\" \")\n",
        "#Definir las segundas variables\n",
        "b = \"Ingrese dos números flotantes o decimales\"\n",
        "print(b)\n",
        "n3 = float(input(\"Ingrese un numero flotante o decimal: \"))\n",
        "n4 = float(input(\"Ingrese un numero flotante o decimal: \"))\n",
        "print(\" \")\n",
        "print(\" \")\n",
        "#Calcular los resultados e imprimirlos\n",
        "c = \"Resultados de números enteros\"\n",
        "print(c)\n",
        "sum1 = (n1 + n2)\n",
        "print(\"Suma: \",sum1)\n",
        "res1 = n1 - n2\n",
        "print(\"Resta: \",res1)\n",
        "mult1 = n1 * n2\n",
        "print(\"Multiplicación: \",mult1)\n",
        "div1 = n1 / n2\n",
        "print(\"División: \",div1)\n",
        "print(\" \")\n",
        "print(\" \")\n",
        "d = \"Resultados de números flotantes o decimales\"\n",
        "print(d)\n",
        "sum2 = (n3 + n4)\n",
        "print(\"Suma: \",sum2)\n",
        "res2 = n3 - n4\n",
        "print(\"Resta: \",res2)\n",
        "mult2 = n3 * n4\n",
        "print(\"Multiplicación: \",mult2)\n",
        "div2 = n3 / n4\n",
        "print(\"División: \",div2)"
      ],
      "execution_count": 20,
      "outputs": [
        {
          "output_type": "stream",
          "name": "stdout",
          "text": [
            "Ingrese dos números enteros\n",
            "Ingrese un numero entero: 1\n",
            "Ingrese un numero entero: 2\n",
            " \n",
            " \n",
            "Ingrese dos números flotantes o decimales\n",
            "Ingrese un numero flotante o decimal: 1.5\n",
            "Ingrese un numero flotante o decimal: 2.5\n",
            " \n",
            " \n",
            "Resultados de números enteros\n",
            "Suma:  3\n",
            "Resta:  -1\n",
            "Multiplicación:  2\n",
            "División:  0.5\n",
            " \n",
            " \n",
            "Resultados de números flotantes o decimales\n",
            "Suma:  4.0\n",
            "Resta:  -1.0\n",
            "Multiplicación:  3.75\n",
            "División:  0.6\n"
          ]
        }
      ]
    },
    {
      "cell_type": "markdown",
      "metadata": {
        "id": "BLgQHDhB3WCB"
      },
      "source": [
        "### Ejercicio 3"
      ]
    },
    {
      "cell_type": "code",
      "metadata": {
        "colab": {
          "base_uri": "https://localhost:8080/"
        },
        "id": "EsPLpkSI3S4t",
        "outputId": "6df608c2-5666-442b-fc2e-cc5cdc3d8686"
      },
      "source": [
        "#Definimos los valores de las expresiones lógicas para el uso de los operadores\n",
        "print(\"AND\")\n",
        "print(\"5 < x < 10\")\n",
        "print(\"6 <= x <= 8\")\n",
        "x = int(input(\"Ingrese un valor a comparar: \"))\n",
        "print(5 < x < 10 and 6 <= x <= 8)\n",
        "print(\" \")\n",
        "\n",
        "print(\"OR\")\n",
        "print(\"12 >= x\")\n",
        "print(\"x == 10\")\n",
        "x = int(input(\"Ingrese un valor a comparar: \"))\n",
        "print(12 <= x or x == 10)\n",
        "print(\" \")\n",
        "\n",
        "print(\"NOT\")\n",
        "print(\"30 > x\")\n",
        "print(\"x >= 25\")\n",
        "x = int(input(\"Ingrese un valor a comparar: \"))\n",
        "print(not(30 > x >= 25))\n",
        "\n"
      ],
      "execution_count": 69,
      "outputs": [
        {
          "output_type": "stream",
          "name": "stdout",
          "text": [
            "AND\n",
            "5 < x < 10\n",
            "6 <= x <= 8\n",
            "Ingrese un valor a comparar: 7\n",
            "True\n",
            " \n",
            "OR\n",
            "12 >= x\n",
            "x == 10\n",
            "Ingrese un valor a comparar: 11\n",
            "False\n",
            " \n",
            "NOT\n",
            "30 > x\n",
            "x >= 25\n",
            "Ingrese un valor a comparar: 7\n",
            "True\n"
          ]
        }
      ]
    }
  ]
}